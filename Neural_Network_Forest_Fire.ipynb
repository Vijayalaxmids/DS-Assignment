{
 "cells": [
  {
   "cell_type": "markdown",
   "id": "5b59c4f7",
   "metadata": {},
   "source": [
    "PREDICT THE BURNED AREA OF FOREST FIRES WITH NEURAL NETWORKS"
   ]
  },
  {
   "cell_type": "code",
   "execution_count": 1,
   "id": "28520e05",
   "metadata": {
    "ExecuteTime": {
     "end_time": "2023-02-25T15:53:07.828666Z",
     "start_time": "2023-02-25T15:52:16.253903Z"
    }
   },
   "outputs": [],
   "source": [
    "import pandas as pd\n",
    "from sklearn.preprocessing import StandardScaler\n",
    "from keras.models import Sequential\n",
    "from keras.layers import Dense\n",
    "from sklearn.metrics import r2_score"
   ]
  },
  {
   "cell_type": "code",
   "execution_count": 13,
   "id": "301ff996",
   "metadata": {
    "ExecuteTime": {
     "end_time": "2023-02-25T15:59:55.121395Z",
     "start_time": "2023-02-25T15:59:55.032357Z"
    }
   },
   "outputs": [],
   "source": [
    "df = pd.read_csv('forestfires.csv')"
   ]
  },
  {
   "cell_type": "code",
   "execution_count": 14,
   "id": "f795f143",
   "metadata": {
    "ExecuteTime": {
     "end_time": "2023-02-25T15:59:57.064701Z",
     "start_time": "2023-02-25T15:59:56.949704Z"
    }
   },
   "outputs": [
    {
     "data": {
      "text/html": [
       "<div>\n",
       "<style scoped>\n",
       "    .dataframe tbody tr th:only-of-type {\n",
       "        vertical-align: middle;\n",
       "    }\n",
       "\n",
       "    .dataframe tbody tr th {\n",
       "        vertical-align: top;\n",
       "    }\n",
       "\n",
       "    .dataframe thead th {\n",
       "        text-align: right;\n",
       "    }\n",
       "</style>\n",
       "<table border=\"1\" class=\"dataframe\">\n",
       "  <thead>\n",
       "    <tr style=\"text-align: right;\">\n",
       "      <th></th>\n",
       "      <th>month</th>\n",
       "      <th>day</th>\n",
       "      <th>FFMC</th>\n",
       "      <th>DMC</th>\n",
       "      <th>DC</th>\n",
       "      <th>ISI</th>\n",
       "      <th>temp</th>\n",
       "      <th>RH</th>\n",
       "      <th>wind</th>\n",
       "      <th>rain</th>\n",
       "      <th>...</th>\n",
       "      <th>monthfeb</th>\n",
       "      <th>monthjan</th>\n",
       "      <th>monthjul</th>\n",
       "      <th>monthjun</th>\n",
       "      <th>monthmar</th>\n",
       "      <th>monthmay</th>\n",
       "      <th>monthnov</th>\n",
       "      <th>monthoct</th>\n",
       "      <th>monthsep</th>\n",
       "      <th>size_category</th>\n",
       "    </tr>\n",
       "  </thead>\n",
       "  <tbody>\n",
       "    <tr>\n",
       "      <th>0</th>\n",
       "      <td>mar</td>\n",
       "      <td>fri</td>\n",
       "      <td>86.2</td>\n",
       "      <td>26.2</td>\n",
       "      <td>94.3</td>\n",
       "      <td>5.1</td>\n",
       "      <td>8.2</td>\n",
       "      <td>51</td>\n",
       "      <td>6.7</td>\n",
       "      <td>0.0</td>\n",
       "      <td>...</td>\n",
       "      <td>0</td>\n",
       "      <td>0</td>\n",
       "      <td>0</td>\n",
       "      <td>0</td>\n",
       "      <td>1</td>\n",
       "      <td>0</td>\n",
       "      <td>0</td>\n",
       "      <td>0</td>\n",
       "      <td>0</td>\n",
       "      <td>small</td>\n",
       "    </tr>\n",
       "    <tr>\n",
       "      <th>1</th>\n",
       "      <td>oct</td>\n",
       "      <td>tue</td>\n",
       "      <td>90.6</td>\n",
       "      <td>35.4</td>\n",
       "      <td>669.1</td>\n",
       "      <td>6.7</td>\n",
       "      <td>18.0</td>\n",
       "      <td>33</td>\n",
       "      <td>0.9</td>\n",
       "      <td>0.0</td>\n",
       "      <td>...</td>\n",
       "      <td>0</td>\n",
       "      <td>0</td>\n",
       "      <td>0</td>\n",
       "      <td>0</td>\n",
       "      <td>0</td>\n",
       "      <td>0</td>\n",
       "      <td>0</td>\n",
       "      <td>1</td>\n",
       "      <td>0</td>\n",
       "      <td>small</td>\n",
       "    </tr>\n",
       "    <tr>\n",
       "      <th>2</th>\n",
       "      <td>oct</td>\n",
       "      <td>sat</td>\n",
       "      <td>90.6</td>\n",
       "      <td>43.7</td>\n",
       "      <td>686.9</td>\n",
       "      <td>6.7</td>\n",
       "      <td>14.6</td>\n",
       "      <td>33</td>\n",
       "      <td>1.3</td>\n",
       "      <td>0.0</td>\n",
       "      <td>...</td>\n",
       "      <td>0</td>\n",
       "      <td>0</td>\n",
       "      <td>0</td>\n",
       "      <td>0</td>\n",
       "      <td>0</td>\n",
       "      <td>0</td>\n",
       "      <td>0</td>\n",
       "      <td>1</td>\n",
       "      <td>0</td>\n",
       "      <td>small</td>\n",
       "    </tr>\n",
       "    <tr>\n",
       "      <th>3</th>\n",
       "      <td>mar</td>\n",
       "      <td>fri</td>\n",
       "      <td>91.7</td>\n",
       "      <td>33.3</td>\n",
       "      <td>77.5</td>\n",
       "      <td>9.0</td>\n",
       "      <td>8.3</td>\n",
       "      <td>97</td>\n",
       "      <td>4.0</td>\n",
       "      <td>0.2</td>\n",
       "      <td>...</td>\n",
       "      <td>0</td>\n",
       "      <td>0</td>\n",
       "      <td>0</td>\n",
       "      <td>0</td>\n",
       "      <td>1</td>\n",
       "      <td>0</td>\n",
       "      <td>0</td>\n",
       "      <td>0</td>\n",
       "      <td>0</td>\n",
       "      <td>small</td>\n",
       "    </tr>\n",
       "    <tr>\n",
       "      <th>4</th>\n",
       "      <td>mar</td>\n",
       "      <td>sun</td>\n",
       "      <td>89.3</td>\n",
       "      <td>51.3</td>\n",
       "      <td>102.2</td>\n",
       "      <td>9.6</td>\n",
       "      <td>11.4</td>\n",
       "      <td>99</td>\n",
       "      <td>1.8</td>\n",
       "      <td>0.0</td>\n",
       "      <td>...</td>\n",
       "      <td>0</td>\n",
       "      <td>0</td>\n",
       "      <td>0</td>\n",
       "      <td>0</td>\n",
       "      <td>1</td>\n",
       "      <td>0</td>\n",
       "      <td>0</td>\n",
       "      <td>0</td>\n",
       "      <td>0</td>\n",
       "      <td>small</td>\n",
       "    </tr>\n",
       "    <tr>\n",
       "      <th>...</th>\n",
       "      <td>...</td>\n",
       "      <td>...</td>\n",
       "      <td>...</td>\n",
       "      <td>...</td>\n",
       "      <td>...</td>\n",
       "      <td>...</td>\n",
       "      <td>...</td>\n",
       "      <td>...</td>\n",
       "      <td>...</td>\n",
       "      <td>...</td>\n",
       "      <td>...</td>\n",
       "      <td>...</td>\n",
       "      <td>...</td>\n",
       "      <td>...</td>\n",
       "      <td>...</td>\n",
       "      <td>...</td>\n",
       "      <td>...</td>\n",
       "      <td>...</td>\n",
       "      <td>...</td>\n",
       "      <td>...</td>\n",
       "      <td>...</td>\n",
       "    </tr>\n",
       "    <tr>\n",
       "      <th>512</th>\n",
       "      <td>aug</td>\n",
       "      <td>sun</td>\n",
       "      <td>81.6</td>\n",
       "      <td>56.7</td>\n",
       "      <td>665.6</td>\n",
       "      <td>1.9</td>\n",
       "      <td>27.8</td>\n",
       "      <td>32</td>\n",
       "      <td>2.7</td>\n",
       "      <td>0.0</td>\n",
       "      <td>...</td>\n",
       "      <td>0</td>\n",
       "      <td>0</td>\n",
       "      <td>0</td>\n",
       "      <td>0</td>\n",
       "      <td>0</td>\n",
       "      <td>0</td>\n",
       "      <td>0</td>\n",
       "      <td>0</td>\n",
       "      <td>0</td>\n",
       "      <td>large</td>\n",
       "    </tr>\n",
       "    <tr>\n",
       "      <th>513</th>\n",
       "      <td>aug</td>\n",
       "      <td>sun</td>\n",
       "      <td>81.6</td>\n",
       "      <td>56.7</td>\n",
       "      <td>665.6</td>\n",
       "      <td>1.9</td>\n",
       "      <td>21.9</td>\n",
       "      <td>71</td>\n",
       "      <td>5.8</td>\n",
       "      <td>0.0</td>\n",
       "      <td>...</td>\n",
       "      <td>0</td>\n",
       "      <td>0</td>\n",
       "      <td>0</td>\n",
       "      <td>0</td>\n",
       "      <td>0</td>\n",
       "      <td>0</td>\n",
       "      <td>0</td>\n",
       "      <td>0</td>\n",
       "      <td>0</td>\n",
       "      <td>large</td>\n",
       "    </tr>\n",
       "    <tr>\n",
       "      <th>514</th>\n",
       "      <td>aug</td>\n",
       "      <td>sun</td>\n",
       "      <td>81.6</td>\n",
       "      <td>56.7</td>\n",
       "      <td>665.6</td>\n",
       "      <td>1.9</td>\n",
       "      <td>21.2</td>\n",
       "      <td>70</td>\n",
       "      <td>6.7</td>\n",
       "      <td>0.0</td>\n",
       "      <td>...</td>\n",
       "      <td>0</td>\n",
       "      <td>0</td>\n",
       "      <td>0</td>\n",
       "      <td>0</td>\n",
       "      <td>0</td>\n",
       "      <td>0</td>\n",
       "      <td>0</td>\n",
       "      <td>0</td>\n",
       "      <td>0</td>\n",
       "      <td>large</td>\n",
       "    </tr>\n",
       "    <tr>\n",
       "      <th>515</th>\n",
       "      <td>aug</td>\n",
       "      <td>sat</td>\n",
       "      <td>94.4</td>\n",
       "      <td>146.0</td>\n",
       "      <td>614.7</td>\n",
       "      <td>11.3</td>\n",
       "      <td>25.6</td>\n",
       "      <td>42</td>\n",
       "      <td>4.0</td>\n",
       "      <td>0.0</td>\n",
       "      <td>...</td>\n",
       "      <td>0</td>\n",
       "      <td>0</td>\n",
       "      <td>0</td>\n",
       "      <td>0</td>\n",
       "      <td>0</td>\n",
       "      <td>0</td>\n",
       "      <td>0</td>\n",
       "      <td>0</td>\n",
       "      <td>0</td>\n",
       "      <td>small</td>\n",
       "    </tr>\n",
       "    <tr>\n",
       "      <th>516</th>\n",
       "      <td>nov</td>\n",
       "      <td>tue</td>\n",
       "      <td>79.5</td>\n",
       "      <td>3.0</td>\n",
       "      <td>106.7</td>\n",
       "      <td>1.1</td>\n",
       "      <td>11.8</td>\n",
       "      <td>31</td>\n",
       "      <td>4.5</td>\n",
       "      <td>0.0</td>\n",
       "      <td>...</td>\n",
       "      <td>0</td>\n",
       "      <td>0</td>\n",
       "      <td>0</td>\n",
       "      <td>0</td>\n",
       "      <td>0</td>\n",
       "      <td>0</td>\n",
       "      <td>1</td>\n",
       "      <td>0</td>\n",
       "      <td>0</td>\n",
       "      <td>small</td>\n",
       "    </tr>\n",
       "  </tbody>\n",
       "</table>\n",
       "<p>517 rows × 31 columns</p>\n",
       "</div>"
      ],
      "text/plain": [
       "    month  day  FFMC    DMC     DC   ISI  temp  RH  wind  rain  ...  monthfeb  \\\n",
       "0     mar  fri  86.2   26.2   94.3   5.1   8.2  51   6.7   0.0  ...         0   \n",
       "1     oct  tue  90.6   35.4  669.1   6.7  18.0  33   0.9   0.0  ...         0   \n",
       "2     oct  sat  90.6   43.7  686.9   6.7  14.6  33   1.3   0.0  ...         0   \n",
       "3     mar  fri  91.7   33.3   77.5   9.0   8.3  97   4.0   0.2  ...         0   \n",
       "4     mar  sun  89.3   51.3  102.2   9.6  11.4  99   1.8   0.0  ...         0   \n",
       "..    ...  ...   ...    ...    ...   ...   ...  ..   ...   ...  ...       ...   \n",
       "512   aug  sun  81.6   56.7  665.6   1.9  27.8  32   2.7   0.0  ...         0   \n",
       "513   aug  sun  81.6   56.7  665.6   1.9  21.9  71   5.8   0.0  ...         0   \n",
       "514   aug  sun  81.6   56.7  665.6   1.9  21.2  70   6.7   0.0  ...         0   \n",
       "515   aug  sat  94.4  146.0  614.7  11.3  25.6  42   4.0   0.0  ...         0   \n",
       "516   nov  tue  79.5    3.0  106.7   1.1  11.8  31   4.5   0.0  ...         0   \n",
       "\n",
       "     monthjan  monthjul  monthjun  monthmar  monthmay  monthnov  monthoct  \\\n",
       "0           0         0         0         1         0         0         0   \n",
       "1           0         0         0         0         0         0         1   \n",
       "2           0         0         0         0         0         0         1   \n",
       "3           0         0         0         1         0         0         0   \n",
       "4           0         0         0         1         0         0         0   \n",
       "..        ...       ...       ...       ...       ...       ...       ...   \n",
       "512         0         0         0         0         0         0         0   \n",
       "513         0         0         0         0         0         0         0   \n",
       "514         0         0         0         0         0         0         0   \n",
       "515         0         0         0         0         0         0         0   \n",
       "516         0         0         0         0         0         1         0   \n",
       "\n",
       "     monthsep  size_category  \n",
       "0           0          small  \n",
       "1           0          small  \n",
       "2           0          small  \n",
       "3           0          small  \n",
       "4           0          small  \n",
       "..        ...            ...  \n",
       "512         0          large  \n",
       "513         0          large  \n",
       "514         0          large  \n",
       "515         0          small  \n",
       "516         0          small  \n",
       "\n",
       "[517 rows x 31 columns]"
      ]
     },
     "execution_count": 14,
     "metadata": {},
     "output_type": "execute_result"
    }
   ],
   "source": [
    "df"
   ]
  },
  {
   "cell_type": "code",
   "execution_count": 4,
   "id": "9355b1ce",
   "metadata": {
    "ExecuteTime": {
     "end_time": "2023-02-25T15:53:08.322849Z",
     "start_time": "2023-02-25T15:53:08.213848Z"
    },
    "scrolled": true
   },
   "outputs": [
    {
     "name": "stdout",
     "output_type": "stream",
     "text": [
      "<class 'pandas.core.frame.DataFrame'>\n",
      "RangeIndex: 517 entries, 0 to 516\n",
      "Data columns (total 31 columns):\n",
      " #   Column         Non-Null Count  Dtype  \n",
      "---  ------         --------------  -----  \n",
      " 0   month          517 non-null    object \n",
      " 1   day            517 non-null    object \n",
      " 2   FFMC           517 non-null    float64\n",
      " 3   DMC            517 non-null    float64\n",
      " 4   DC             517 non-null    float64\n",
      " 5   ISI            517 non-null    float64\n",
      " 6   temp           517 non-null    float64\n",
      " 7   RH             517 non-null    int64  \n",
      " 8   wind           517 non-null    float64\n",
      " 9   rain           517 non-null    float64\n",
      " 10  area           517 non-null    float64\n",
      " 11  dayfri         517 non-null    int64  \n",
      " 12  daymon         517 non-null    int64  \n",
      " 13  daysat         517 non-null    int64  \n",
      " 14  daysun         517 non-null    int64  \n",
      " 15  daythu         517 non-null    int64  \n",
      " 16  daytue         517 non-null    int64  \n",
      " 17  daywed         517 non-null    int64  \n",
      " 18  monthapr       517 non-null    int64  \n",
      " 19  monthaug       517 non-null    int64  \n",
      " 20  monthdec       517 non-null    int64  \n",
      " 21  monthfeb       517 non-null    int64  \n",
      " 22  monthjan       517 non-null    int64  \n",
      " 23  monthjul       517 non-null    int64  \n",
      " 24  monthjun       517 non-null    int64  \n",
      " 25  monthmar       517 non-null    int64  \n",
      " 26  monthmay       517 non-null    int64  \n",
      " 27  monthnov       517 non-null    int64  \n",
      " 28  monthoct       517 non-null    int64  \n",
      " 29  monthsep       517 non-null    int64  \n",
      " 30  size_category  517 non-null    object \n",
      "dtypes: float64(8), int64(20), object(3)\n",
      "memory usage: 125.3+ KB\n"
     ]
    }
   ],
   "source": [
    "df.info()"
   ]
  },
  {
   "cell_type": "code",
   "execution_count": 6,
   "id": "483beb67",
   "metadata": {
    "ExecuteTime": {
     "end_time": "2023-02-25T15:55:01.376799Z",
     "start_time": "2023-02-25T15:55:01.355800Z"
    },
    "scrolled": true
   },
   "outputs": [
    {
     "data": {
      "text/plain": [
       "0      mar\n",
       "1      oct\n",
       "2      oct\n",
       "3      mar\n",
       "4      mar\n",
       "      ... \n",
       "512    aug\n",
       "513    aug\n",
       "514    aug\n",
       "515    aug\n",
       "516    nov\n",
       "Name: month, Length: 517, dtype: object"
      ]
     },
     "execution_count": 6,
     "metadata": {},
     "output_type": "execute_result"
    }
   ],
   "source": [
    "df.month"
   ]
  },
  {
   "cell_type": "code",
   "execution_count": 8,
   "id": "8829a3cc",
   "metadata": {
    "ExecuteTime": {
     "end_time": "2023-02-25T15:56:10.126221Z",
     "start_time": "2023-02-25T15:56:10.106212Z"
    }
   },
   "outputs": [
    {
     "data": {
      "text/plain": [
       "0"
      ]
     },
     "execution_count": 8,
     "metadata": {},
     "output_type": "execute_result"
    }
   ],
   "source": [
    "df.month.isna().sum()"
   ]
  },
  {
   "cell_type": "code",
   "execution_count": 15,
   "id": "9fd78198",
   "metadata": {
    "ExecuteTime": {
     "end_time": "2023-02-25T16:00:04.790784Z",
     "start_time": "2023-02-25T16:00:04.751787Z"
    }
   },
   "outputs": [],
   "source": [
    "df = pd.get_dummies(df, columns=['month', 'day','size_category'])"
   ]
  },
  {
   "cell_type": "code",
   "execution_count": 16,
   "id": "4e11c89c",
   "metadata": {
    "ExecuteTime": {
     "end_time": "2023-02-25T16:00:07.208563Z",
     "start_time": "2023-02-25T16:00:07.182554Z"
    }
   },
   "outputs": [],
   "source": [
    "X = df.drop('area', axis=1)\n",
    "y = df['area']"
   ]
  },
  {
   "cell_type": "code",
   "execution_count": 17,
   "id": "f27aeebf",
   "metadata": {
    "ExecuteTime": {
     "end_time": "2023-02-25T16:00:08.732484Z",
     "start_time": "2023-02-25T16:00:08.509101Z"
    }
   },
   "outputs": [],
   "source": [
    "scaler = StandardScaler()\n",
    "X = scaler.fit_transform(X)"
   ]
  },
  {
   "cell_type": "code",
   "execution_count": 18,
   "id": "c992bbd2",
   "metadata": {
    "ExecuteTime": {
     "end_time": "2023-02-25T16:00:10.380435Z",
     "start_time": "2023-02-25T16:00:10.052067Z"
    }
   },
   "outputs": [],
   "source": [
    "from sklearn.model_selection import train_test_split\n",
    "\n",
    "X_train, X_test, y_train, y_test = train_test_split(X, y, test_size=0.2, random_state=0)"
   ]
  },
  {
   "cell_type": "code",
   "execution_count": 19,
   "id": "d3be97cd",
   "metadata": {
    "ExecuteTime": {
     "end_time": "2023-02-25T16:00:11.219564Z",
     "start_time": "2023-02-25T16:00:11.200562Z"
    }
   },
   "outputs": [
    {
     "data": {
      "text/plain": [
       "array([[-0.02623516, -0.22149642,  0.81734695, ..., -0.34151233,\n",
       "         1.64906775, -1.64906775],\n",
       "       [-0.0625014 , -0.47155694,  0.7354347 , ..., -0.34151233,\n",
       "        -0.60640322,  0.60640322],\n",
       "       [ 0.19136233,  1.25854925,  0.35492605, ...,  2.92815199,\n",
       "         1.64906775, -1.64906775],\n",
       "       ...,\n",
       "       [ 0.33642731, -0.35746683,  0.60792597, ..., -0.34151233,\n",
       "        -0.60640322,  0.60640322],\n",
       "       [ 0.33642731,  0.17391177,  0.97552234, ..., -0.34151233,\n",
       "         1.64906775, -1.64906775],\n",
       "       [ 0.75348916, -0.04020255,  0.40011901, ..., -0.34151233,\n",
       "         1.64906775, -1.64906775]])"
      ]
     },
     "execution_count": 19,
     "metadata": {},
     "output_type": "execute_result"
    }
   ],
   "source": [
    "X_train"
   ]
  },
  {
   "cell_type": "code",
   "execution_count": 20,
   "id": "12fd9833",
   "metadata": {
    "ExecuteTime": {
     "end_time": "2023-02-25T16:00:12.275778Z",
     "start_time": "2023-02-25T16:00:12.255779Z"
    }
   },
   "outputs": [
    {
     "data": {
      "text/plain": [
       "array([[-0.55209574, -0.91697723, -1.79214344, ..., -0.34151233,\n",
       "         1.64906775, -1.64906775],\n",
       "       [ 0.02816421, -0.40904181, -0.69137186, ..., -0.34151233,\n",
       "        -0.60640322,  0.60640322],\n",
       "       [ 0.15509608,  0.3005049 ,  1.04573284, ..., -0.34151233,\n",
       "        -0.60640322,  0.60640322],\n",
       "       ...,\n",
       "       [ 0.13696295,  0.49273893,  0.21571556, ..., -0.34151233,\n",
       "        -0.60640322,  0.60640322],\n",
       "       [ 0.66282354, -0.4027903 ,  0.58250492, ..., -0.34151233,\n",
       "        -0.60640322,  0.60640322],\n",
       "       [ 0.44522606,  0.72560778,  0.47920671, ...,  2.92815199,\n",
       "        -0.60640322,  0.60640322]])"
      ]
     },
     "execution_count": 20,
     "metadata": {},
     "output_type": "execute_result"
    }
   ],
   "source": [
    "X_test"
   ]
  },
  {
   "cell_type": "code",
   "execution_count": 21,
   "id": "2671b008",
   "metadata": {
    "ExecuteTime": {
     "end_time": "2023-02-25T16:00:13.304963Z",
     "start_time": "2023-02-25T16:00:13.283965Z"
    }
   },
   "outputs": [
    {
     "data": {
      "text/plain": [
       "386    24.59\n",
       "56      0.00\n",
       "457    82.75\n",
       "60      0.00\n",
       "229    71.30\n",
       "       ...  \n",
       "70      0.00\n",
       "277    10.73\n",
       "9       0.00\n",
       "359     8.12\n",
       "192     8.71\n",
       "Name: area, Length: 413, dtype: float64"
      ]
     },
     "execution_count": 21,
     "metadata": {},
     "output_type": "execute_result"
    }
   ],
   "source": [
    "y_train"
   ]
  },
  {
   "cell_type": "code",
   "execution_count": 22,
   "id": "5c11fa14",
   "metadata": {
    "ExecuteTime": {
     "end_time": "2023-02-25T16:00:14.750459Z",
     "start_time": "2023-02-25T16:00:14.728450Z"
    }
   },
   "outputs": [
    {
     "data": {
      "text/plain": [
       "213    27.35\n",
       "435     0.00\n",
       "343     2.18\n",
       "230    88.49\n",
       "171     2.69\n",
       "       ...  \n",
       "154     1.46\n",
       "49      0.00\n",
       "100     0.00\n",
       "153     1.46\n",
       "250     0.68\n",
       "Name: area, Length: 104, dtype: float64"
      ]
     },
     "execution_count": 22,
     "metadata": {},
     "output_type": "execute_result"
    }
   ],
   "source": [
    "y_test"
   ]
  },
  {
   "cell_type": "code",
   "execution_count": 23,
   "id": "ec4bb6cc",
   "metadata": {
    "ExecuteTime": {
     "end_time": "2023-02-25T16:00:18.807628Z",
     "start_time": "2023-02-25T16:00:15.787290Z"
    }
   },
   "outputs": [],
   "source": [
    "model = Sequential()\n",
    "model.add(Dense(64, input_dim=X_train.shape[1], activation='relu'))\n",
    "model.add(Dense(1))\n",
    "\n",
    "model.compile(loss='mean_squared_error', optimizer='adam')"
   ]
  },
  {
   "cell_type": "code",
   "execution_count": 24,
   "id": "1d7b58ea",
   "metadata": {
    "ExecuteTime": {
     "end_time": "2023-02-25T16:00:43.081499Z",
     "start_time": "2023-02-25T16:00:20.203885Z"
    }
   },
   "outputs": [
    {
     "name": "stdout",
     "output_type": "stream",
     "text": [
      "Epoch 1/100\n",
      "13/13 [==============================] - 5s 57ms/step - loss: 2101.4314 - val_loss: 12615.3906\n",
      "Epoch 2/100\n",
      "13/13 [==============================] - 0s 12ms/step - loss: 2087.2612 - val_loss: 12587.5527\n",
      "Epoch 3/100\n",
      "13/13 [==============================] - 0s 11ms/step - loss: 2075.4856 - val_loss: 12559.0557\n",
      "Epoch 4/100\n",
      "13/13 [==============================] - 0s 11ms/step - loss: 2064.2375 - val_loss: 12529.3037\n",
      "Epoch 5/100\n",
      "13/13 [==============================] - 0s 11ms/step - loss: 2050.7637 - val_loss: 12501.6943\n",
      "Epoch 6/100\n",
      "13/13 [==============================] - 0s 12ms/step - loss: 2038.8521 - val_loss: 12469.1572\n",
      "Epoch 7/100\n",
      "13/13 [==============================] - 0s 12ms/step - loss: 2025.8506 - val_loss: 12436.7559\n",
      "Epoch 8/100\n",
      "13/13 [==============================] - 0s 12ms/step - loss: 2013.6527 - val_loss: 12402.0332\n",
      "Epoch 9/100\n",
      "13/13 [==============================] - 0s 11ms/step - loss: 1999.6351 - val_loss: 12364.2383\n",
      "Epoch 10/100\n",
      "13/13 [==============================] - 0s 12ms/step - loss: 1988.7109 - val_loss: 12320.4473\n",
      "Epoch 11/100\n",
      "13/13 [==============================] - 0s 11ms/step - loss: 1973.3914 - val_loss: 12281.7295\n",
      "Epoch 12/100\n",
      "13/13 [==============================] - 0s 11ms/step - loss: 1957.1643 - val_loss: 12244.6943\n",
      "Epoch 13/100\n",
      "13/13 [==============================] - 0s 11ms/step - loss: 1947.0867 - val_loss: 12200.6553\n",
      "Epoch 14/100\n",
      "13/13 [==============================] - 0s 12ms/step - loss: 1930.4515 - val_loss: 12157.5381\n",
      "Epoch 15/100\n",
      "13/13 [==============================] - 0s 12ms/step - loss: 1916.4633 - val_loss: 12111.8184\n",
      "Epoch 16/100\n",
      "13/13 [==============================] - 0s 12ms/step - loss: 1901.2253 - val_loss: 12072.6816\n",
      "Epoch 17/100\n",
      "13/13 [==============================] - 0s 17ms/step - loss: 1889.2325 - val_loss: 12028.4375\n",
      "Epoch 18/100\n",
      "13/13 [==============================] - 0s 16ms/step - loss: 1875.2047 - val_loss: 11983.1289\n",
      "Epoch 19/100\n",
      "13/13 [==============================] - 0s 14ms/step - loss: 1859.3490 - val_loss: 11953.2744\n",
      "Epoch 20/100\n",
      "13/13 [==============================] - 0s 12ms/step - loss: 1846.8320 - val_loss: 11910.9590\n",
      "Epoch 21/100\n",
      "13/13 [==============================] - 0s 13ms/step - loss: 1834.5663 - val_loss: 11867.0664\n",
      "Epoch 22/100\n",
      "13/13 [==============================] - 0s 12ms/step - loss: 1821.2423 - val_loss: 11825.3613\n",
      "Epoch 23/100\n",
      "13/13 [==============================] - 0s 14ms/step - loss: 1806.3177 - val_loss: 11797.0674\n",
      "Epoch 24/100\n",
      "13/13 [==============================] - 0s 16ms/step - loss: 1798.4916 - val_loss: 11754.5830\n",
      "Epoch 25/100\n",
      "13/13 [==============================] - 0s 13ms/step - loss: 1783.0928 - val_loss: 11718.7236\n",
      "Epoch 26/100\n",
      "13/13 [==============================] - 0s 13ms/step - loss: 1769.9302 - val_loss: 11694.7520\n",
      "Epoch 27/100\n",
      "13/13 [==============================] - 0s 13ms/step - loss: 1759.6595 - val_loss: 11665.1680\n",
      "Epoch 28/100\n",
      "13/13 [==============================] - 0s 14ms/step - loss: 1749.3732 - val_loss: 11617.5205\n",
      "Epoch 29/100\n",
      "13/13 [==============================] - 0s 19ms/step - loss: 1740.3391 - val_loss: 11582.1396\n",
      "Epoch 30/100\n",
      "13/13 [==============================] - 0s 12ms/step - loss: 1728.3145 - val_loss: 11556.4629\n",
      "Epoch 31/100\n",
      "13/13 [==============================] - 0s 12ms/step - loss: 1717.9874 - val_loss: 11529.4756\n",
      "Epoch 32/100\n",
      "13/13 [==============================] - 0s 16ms/step - loss: 1708.5586 - val_loss: 11498.9238\n",
      "Epoch 33/100\n",
      "13/13 [==============================] - 0s 12ms/step - loss: 1700.0354 - val_loss: 11476.7949\n",
      "Epoch 34/100\n",
      "13/13 [==============================] - 0s 12ms/step - loss: 1692.2412 - val_loss: 11442.3135\n",
      "Epoch 35/100\n",
      "13/13 [==============================] - 0s 14ms/step - loss: 1683.6226 - val_loss: 11422.3477\n",
      "Epoch 36/100\n",
      "13/13 [==============================] - 0s 15ms/step - loss: 1675.9254 - val_loss: 11398.6680\n",
      "Epoch 37/100\n",
      "13/13 [==============================] - 0s 15ms/step - loss: 1669.2155 - val_loss: 11382.9473\n",
      "Epoch 38/100\n",
      "13/13 [==============================] - 0s 13ms/step - loss: 1664.4761 - val_loss: 11353.7012\n",
      "Epoch 39/100\n",
      "13/13 [==============================] - 0s 14ms/step - loss: 1655.5337 - val_loss: 11332.1045\n",
      "Epoch 40/100\n",
      "13/13 [==============================] - 0s 14ms/step - loss: 1650.2814 - val_loss: 11310.7354\n",
      "Epoch 41/100\n",
      "13/13 [==============================] - 0s 14ms/step - loss: 1645.0145 - val_loss: 11297.3955\n",
      "Epoch 42/100\n",
      "13/13 [==============================] - 0s 13ms/step - loss: 1639.3043 - val_loss: 11281.7207\n",
      "Epoch 43/100\n",
      "13/13 [==============================] - 0s 12ms/step - loss: 1634.4030 - val_loss: 11262.9619\n",
      "Epoch 44/100\n",
      "13/13 [==============================] - 0s 17ms/step - loss: 1629.9299 - val_loss: 11250.3477\n",
      "Epoch 45/100\n",
      "13/13 [==============================] - 0s 13ms/step - loss: 1626.3082 - val_loss: 11230.9482\n",
      "Epoch 46/100\n",
      "13/13 [==============================] - 0s 13ms/step - loss: 1621.1617 - val_loss: 11224.8535\n",
      "Epoch 47/100\n",
      "13/13 [==============================] - 0s 12ms/step - loss: 1616.6440 - val_loss: 11216.4736\n",
      "Epoch 48/100\n",
      "13/13 [==============================] - 0s 14ms/step - loss: 1612.2487 - val_loss: 11202.9688\n",
      "Epoch 49/100\n",
      "13/13 [==============================] - 0s 13ms/step - loss: 1608.8344 - val_loss: 11189.4307\n",
      "Epoch 50/100\n",
      "13/13 [==============================] - 0s 12ms/step - loss: 1604.8820 - val_loss: 11172.6914\n",
      "Epoch 51/100\n",
      "13/13 [==============================] - 0s 13ms/step - loss: 1602.0024 - val_loss: 11167.1025\n",
      "Epoch 52/100\n",
      "13/13 [==============================] - 0s 13ms/step - loss: 1599.6384 - val_loss: 11157.0713\n",
      "Epoch 53/100\n",
      "13/13 [==============================] - 0s 13ms/step - loss: 1595.4551 - val_loss: 11151.4258\n",
      "Epoch 54/100\n",
      "13/13 [==============================] - 0s 13ms/step - loss: 1591.8855 - val_loss: 11143.8438\n",
      "Epoch 55/100\n",
      "13/13 [==============================] - 0s 11ms/step - loss: 1589.6259 - val_loss: 11129.8555\n",
      "Epoch 56/100\n",
      "13/13 [==============================] - 0s 11ms/step - loss: 1586.4332 - val_loss: 11117.0488\n",
      "Epoch 57/100\n",
      "13/13 [==============================] - 0s 11ms/step - loss: 1582.0194 - val_loss: 11111.5449\n",
      "Epoch 58/100\n",
      "13/13 [==============================] - 0s 13ms/step - loss: 1579.4257 - val_loss: 11111.1943\n",
      "Epoch 59/100\n",
      "13/13 [==============================] - 0s 14ms/step - loss: 1576.8970 - val_loss: 11100.1455\n",
      "Epoch 60/100\n",
      "13/13 [==============================] - 0s 11ms/step - loss: 1574.4003 - val_loss: 11091.8281\n",
      "Epoch 61/100\n",
      "13/13 [==============================] - 0s 11ms/step - loss: 1570.5258 - val_loss: 11089.6943\n",
      "Epoch 62/100\n",
      "13/13 [==============================] - 0s 12ms/step - loss: 1570.3005 - val_loss: 11101.8008\n",
      "Epoch 63/100\n",
      "13/13 [==============================] - 0s 13ms/step - loss: 1565.9033 - val_loss: 11079.2383\n",
      "Epoch 64/100\n",
      "13/13 [==============================] - 0s 13ms/step - loss: 1563.3005 - val_loss: 11067.1807\n",
      "Epoch 65/100\n",
      "13/13 [==============================] - 0s 10ms/step - loss: 1560.1536 - val_loss: 11064.5537\n",
      "Epoch 66/100\n",
      "13/13 [==============================] - 0s 12ms/step - loss: 1558.4633 - val_loss: 11055.2676\n",
      "Epoch 67/100\n",
      "13/13 [==============================] - 0s 11ms/step - loss: 1556.6055 - val_loss: 11061.0986\n",
      "Epoch 68/100\n",
      "13/13 [==============================] - 0s 12ms/step - loss: 1553.1689 - val_loss: 11053.8223\n",
      "Epoch 69/100\n",
      "13/13 [==============================] - 0s 12ms/step - loss: 1550.2955 - val_loss: 11051.2344\n",
      "Epoch 70/100\n",
      "13/13 [==============================] - 0s 15ms/step - loss: 1547.5825 - val_loss: 11049.0459\n",
      "Epoch 71/100\n",
      "13/13 [==============================] - 0s 12ms/step - loss: 1545.6642 - val_loss: 11038.9062\n",
      "Epoch 72/100\n",
      "13/13 [==============================] - 0s 11ms/step - loss: 1543.2999 - val_loss: 11045.2090\n",
      "Epoch 73/100\n",
      "13/13 [==============================] - 0s 11ms/step - loss: 1542.3430 - val_loss: 11029.6055\n",
      "Epoch 74/100\n",
      "13/13 [==============================] - 0s 12ms/step - loss: 1539.2612 - val_loss: 11025.1162\n",
      "Epoch 75/100\n",
      "13/13 [==============================] - 0s 12ms/step - loss: 1536.8224 - val_loss: 11026.4990\n",
      "Epoch 76/100\n",
      "13/13 [==============================] - 0s 20ms/step - loss: 1534.4918 - val_loss: 11023.5957\n",
      "Epoch 77/100\n",
      "13/13 [==============================] - 0s 15ms/step - loss: 1532.5613 - val_loss: 11023.3867\n",
      "Epoch 78/100\n",
      "13/13 [==============================] - 0s 11ms/step - loss: 1532.6201 - val_loss: 11006.5684\n",
      "Epoch 79/100\n",
      "13/13 [==============================] - 0s 15ms/step - loss: 1528.4528 - val_loss: 11012.1426\n",
      "Epoch 80/100\n",
      "13/13 [==============================] - 0s 11ms/step - loss: 1526.7777 - val_loss: 11015.6729\n",
      "Epoch 81/100\n",
      "13/13 [==============================] - 0s 9ms/step - loss: 1523.7654 - val_loss: 11008.4648\n",
      "Epoch 82/100\n",
      "13/13 [==============================] - 0s 9ms/step - loss: 1524.5946 - val_loss: 10994.5400\n",
      "Epoch 83/100\n",
      "13/13 [==============================] - 0s 9ms/step - loss: 1520.3052 - val_loss: 10998.4980\n",
      "Epoch 84/100\n",
      "13/13 [==============================] - 0s 10ms/step - loss: 1517.0399 - val_loss: 10995.8242\n",
      "Epoch 85/100\n",
      "13/13 [==============================] - 0s 9ms/step - loss: 1515.8713 - val_loss: 10995.4014\n",
      "Epoch 86/100\n",
      "13/13 [==============================] - 0s 11ms/step - loss: 1513.4370 - val_loss: 10998.1719\n",
      "Epoch 87/100\n",
      "13/13 [==============================] - 0s 10ms/step - loss: 1510.8177 - val_loss: 10996.3115\n",
      "Epoch 88/100\n",
      "13/13 [==============================] - 0s 10ms/step - loss: 1510.0391 - val_loss: 10986.7725\n",
      "Epoch 89/100\n",
      "13/13 [==============================] - 0s 10ms/step - loss: 1508.3712 - val_loss: 10985.8037\n",
      "Epoch 90/100\n",
      "13/13 [==============================] - 0s 9ms/step - loss: 1505.3979 - val_loss: 10982.2363\n",
      "Epoch 91/100\n",
      "13/13 [==============================] - 0s 9ms/step - loss: 1502.9922 - val_loss: 10976.0527\n",
      "Epoch 92/100\n",
      "13/13 [==============================] - 0s 9ms/step - loss: 1502.4149 - val_loss: 10981.1621\n",
      "Epoch 93/100\n",
      "13/13 [==============================] - 0s 9ms/step - loss: 1499.3859 - val_loss: 10969.7080\n",
      "Epoch 94/100\n",
      "13/13 [==============================] - 0s 9ms/step - loss: 1498.4457 - val_loss: 10964.6025\n",
      "Epoch 95/100\n",
      "13/13 [==============================] - 0s 9ms/step - loss: 1497.9363 - val_loss: 10960.4688\n",
      "Epoch 96/100\n",
      "13/13 [==============================] - 0s 10ms/step - loss: 1494.5024 - val_loss: 10960.6738\n",
      "Epoch 97/100\n",
      "13/13 [==============================] - 0s 9ms/step - loss: 1491.2224 - val_loss: 10965.3271\n",
      "Epoch 98/100\n",
      "13/13 [==============================] - 0s 10ms/step - loss: 1490.2095 - val_loss: 10959.8750\n",
      "Epoch 99/100\n",
      "13/13 [==============================] - 0s 9ms/step - loss: 1489.0541 - val_loss: 10957.1621\n",
      "Epoch 100/100\n",
      "13/13 [==============================] - 0s 9ms/step - loss: 1486.5813 - val_loss: 10956.8506\n"
     ]
    }
   ],
   "source": [
    "new = model.fit(X_train, y_train, epochs=100, batch_size=32, validation_data=(X_test, y_test))"
   ]
  },
  {
   "cell_type": "code",
   "execution_count": 26,
   "id": "27170210",
   "metadata": {
    "ExecuteTime": {
     "end_time": "2023-02-25T16:00:47.464713Z",
     "start_time": "2023-02-25T16:00:47.444714Z"
    }
   },
   "outputs": [
    {
     "data": {
      "text/plain": [
       "<keras.callbacks.History at 0x2758b986b20>"
      ]
     },
     "execution_count": 26,
     "metadata": {},
     "output_type": "execute_result"
    }
   ],
   "source": [
    "new"
   ]
  },
  {
   "cell_type": "code",
   "execution_count": 27,
   "id": "60224eb6",
   "metadata": {
    "ExecuteTime": {
     "end_time": "2023-02-25T16:00:49.142350Z",
     "start_time": "2023-02-25T16:00:48.465081Z"
    }
   },
   "outputs": [
    {
     "name": "stdout",
     "output_type": "stream",
     "text": [
      "4/4 [==============================] - 0s 7ms/step\n"
     ]
    },
    {
     "data": {
      "text/plain": [
       "0.09351957935700916"
      ]
     },
     "execution_count": 27,
     "metadata": {},
     "output_type": "execute_result"
    }
   ],
   "source": [
    "y_pred = model.predict(X_test)\n",
    "r2_score(y_test, y_pred)"
   ]
  },
  {
   "cell_type": "code",
   "execution_count": null,
   "id": "9c8ec878",
   "metadata": {},
   "outputs": [],
   "source": []
  }
 ],
 "metadata": {
  "kernelspec": {
   "display_name": "Python 3 (ipykernel)",
   "language": "python",
   "name": "python3"
  },
  "language_info": {
   "codemirror_mode": {
    "name": "ipython",
    "version": 3
   },
   "file_extension": ".py",
   "mimetype": "text/x-python",
   "name": "python",
   "nbconvert_exporter": "python",
   "pygments_lexer": "ipython3",
   "version": "3.9.12"
  }
 },
 "nbformat": 4,
 "nbformat_minor": 5
}
